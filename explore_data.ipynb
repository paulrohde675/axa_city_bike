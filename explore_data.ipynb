{
 "cells": [
  {
   "cell_type": "code",
   "execution_count": 1,
   "metadata": {},
   "outputs": [
    {
     "name": "stdout",
     "output_type": "stream",
     "text": [
      "/workspaces/axa_city_bike/data/raw/201801-citibike-tripdata.csv\n",
      "/workspaces/axa_city_bike/data/raw/201802-citibike-tripdata.csv\n"
     ]
    }
   ],
   "source": [
    "import pandas as pd\n",
    "\n",
    "# load data by looping over all 12 shards\n",
    "df_list = []\n",
    "for i in range(12):\n",
    "    filename = f'/workspaces/axa_city_bike/data/raw/2018{i+1:02d}-citibike-tripdata.csv'\n",
    "    df_list.append(pd.read_csv(filename))\n",
    "    print(filename)\n",
    "df = pd.concat(df_list)\n",
    "\n",
    "\n"
   ]
  },
  {
   "cell_type": "code",
   "execution_count": null,
   "metadata": {},
   "outputs": [],
   "source": []
  }
 ],
 "metadata": {
  "kernelspec": {
   "display_name": "Python 3",
   "language": "python",
   "name": "python3"
  },
  "language_info": {
   "codemirror_mode": {
    "name": "ipython",
    "version": 3
   },
   "file_extension": ".py",
   "mimetype": "text/x-python",
   "name": "python",
   "nbconvert_exporter": "python",
   "pygments_lexer": "ipython3",
   "version": "3.11.4"
  },
  "orig_nbformat": 4
 },
 "nbformat": 4,
 "nbformat_minor": 2
}
